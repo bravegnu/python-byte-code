{
 "metadata": {
  "name": "Python Byte Code Hacking"
 },
 "nbformat": 3,
 "nbformat_minor": 0,
 "worksheets": [
  {
   "cells": [
    {
     "cell_type": "heading",
     "level": 1,
     "metadata": {},
     "source": [
      "Python Byte Code Hacking"
     ]
    },
    {
     "cell_type": "heading",
     "level": 1,
     "metadata": {},
     "source": [
      "Python Interpreter"
     ]
    },
    {
     "cell_type": "markdown",
     "metadata": {},
     "source": [
      "* Python converts programs into byte code instructions before execution\n",
      "* Python objects are stored in a heap\n",
      "* Python interpreter creates, modifies and destroys objects in the heap based on instrunctions in the byte code.\n",
      "* Python interpreter is modelled after microprocessors\n",
      "* Just as a microprocessor reads and executes instructions, the Python interpreter also reads and execute byte code instructions\n",
      "* Instructions act on operands and produce a result\n",
      "\n",
      "![Python VM and Heap](files/py-vm-heap.png)\n",
      "\n",
      "* The byte code instructions are themselves part of code objects\n",
      "* They are also stored in the heap\n",
      "\n",
      "![Code Objects](files/code-objects.png)"
     ]
    },
    {
     "cell_type": "heading",
     "level": 2,
     "metadata": {},
     "source": [
      "Stack Machine"
     ]
    },
    {
     "cell_type": "markdown",
     "metadata": {},
     "source": [
      "* Interpreters can be classified into types on how the operands / results are stored -- Register Machines and Stack Machines\n",
      "* Demostrate a hypothetical Stack Machine with an example.\n",
      "\n",
      "        loadi 1\n",
      "        loadi 2\n",
      "        add\n",
      "        loadi 3\n",
      "        add\n",
      "        \n",
      "* Executeion of the instructions is shown in the following diagram\n",
      "\n",
      "![Stack Machine](files/stack-machine.png)"
     ]
    },
    {
     "cell_type": "heading",
     "level": 2,
     "metadata": {},
     "source": [
      "Python's Stack Machine"
     ]
    },
    {
     "cell_type": "markdown",
     "metadata": {},
     "source": [
      "* Python uses the Stack Machine approach\n",
      "* Internal stack is a temporary area that contains pointers to Python objects in the heap.\n",
      "* Instructions push and pop data on to the stack.\n",
      "\n",
      "![Python's Stack Machine](files/py-vm-stack.png)"
     ]
    },
    {
     "cell_type": "heading",
     "level": 2,
     "metadata": {},
     "source": [
      "Hello Byte Code"
     ]
    },
    {
     "cell_type": "markdown",
     "metadata": {},
     "source": [
      "Here is a simple hello world function."
     ]
    },
    {
     "cell_type": "code",
     "collapsed": false,
     "input": [
      "def hello():\n",
      "    print \"Hello World\""
     ],
     "language": "python",
     "metadata": {},
     "outputs": [],
     "prompt_number": 4
    },
    {
     "cell_type": "markdown",
     "metadata": {},
     "source": [
      "The function object has a code object."
     ]
    },
    {
     "cell_type": "code",
     "collapsed": false,
     "input": [
      "print hello.__code__"
     ],
     "language": "python",
     "metadata": {},
     "outputs": [
      {
       "output_type": "stream",
       "stream": "stdout",
       "text": [
        "<code object hello at 03A567B8, file \"<ipython-input-4-8ca998ec1415>\", line 1>\n"
       ]
      }
     ],
     "prompt_number": 5
    },
    {
     "cell_type": "markdown",
     "metadata": {},
     "source": [
      "* The code object has the byte code and data required for the code to execute.\n",
      "* The byte codes can be accessed through `co_code` attribute."
     ]
    },
    {
     "cell_type": "code",
     "collapsed": false,
     "input": [
      "byte_codes = hello.__code__.co_code\n",
      "for byte in byte_codes:\n",
      "    print hex(ord(byte)),\n",
      "print"
     ],
     "language": "python",
     "metadata": {},
     "outputs": [
      {
       "output_type": "stream",
       "stream": "stdout",
       "text": [
        "0x64 0x1 0x0 0x47 0x48 0x64 0x0 0x0 0x53\n"
       ]
      }
     ],
     "prompt_number": 6
    },
    {
     "cell_type": "markdown",
     "metadata": {},
     "source": [
      "* One data required for the code to execute is a list of constants.\n",
      "* The byte code refer to these constants using an index into this list.\n",
      "* The list of constants can be accessed through the `co_consts` attribute."
     ]
    },
    {
     "cell_type": "code",
     "collapsed": false,
     "input": [
      "print hello.__code__.co_consts"
     ],
     "language": "python",
     "metadata": {},
     "outputs": [
      {
       "output_type": "stream",
       "stream": "stdout",
       "text": [
        "(None, 'Hello World')\n"
       ]
      }
     ],
     "prompt_number": 7
    },
    {
     "cell_type": "markdown",
     "metadata": {},
     "source": [
      "The byte code can be disassembled and be viewed in a more human readable form using the `dis` module."
     ]
    },
    {
     "cell_type": "code",
     "collapsed": false,
     "input": [
      "import dis\n",
      "dis.disassemble(hello.__code__)"
     ],
     "language": "python",
     "metadata": {},
     "outputs": [
      {
       "output_type": "stream",
       "stream": "stdout",
       "text": [
        "  2           0 LOAD_CONST               1 ('Hello World')\n",
        "              3 PRINT_ITEM          \n",
        "              4 PRINT_NEWLINE       \n",
        "              5 LOAD_CONST               0 (None)\n",
        "              8 RETURN_VALUE        \n"
       ]
      }
     ],
     "prompt_number": 8
    },
    {
     "cell_type": "markdown",
     "metadata": {},
     "source": [
      "  * `LOAD_CONST` pushes a constant on to the top of the stack. The index of the constant into `co_consts` is specified as operand.\n",
      "  * `PRINT_ITEM` prints TOS to `sys.stdout`.\n",
      "  * `RETURN_VALUE` returns the TOS to the caller."
     ]
    },
    {
     "cell_type": "heading",
     "level": 2,
     "metadata": {},
     "source": [
      "Global Variables"
     ]
    },
    {
     "cell_type": "markdown",
     "metadata": {},
     "source": [
      "Let's look at a more involved function and its byte code."
     ]
    },
    {
     "cell_type": "code",
     "collapsed": false,
     "input": [
      "a = 10\n",
      "b = 20\n",
      "def sum_ab():\n",
      "    return a + b"
     ],
     "language": "python",
     "metadata": {},
     "outputs": [],
     "prompt_number": 9
    },
    {
     "cell_type": "markdown",
     "metadata": {},
     "source": [
      "The byte code disassembly:"
     ]
    },
    {
     "cell_type": "code",
     "collapsed": false,
     "input": [
      "dis.disassemble(sum_ab.__code__)"
     ],
     "language": "python",
     "metadata": {},
     "outputs": [
      {
       "output_type": "stream",
       "stream": "stdout",
       "text": [
        "  4           0 LOAD_GLOBAL              0 (a)\n",
        "              3 LOAD_GLOBAL              1 (b)\n",
        "              6 BINARY_ADD          \n",
        "              7 RETURN_VALUE        \n"
       ]
      }
     ],
     "prompt_number": 16
    },
    {
     "cell_type": "markdown",
     "metadata": {},
     "source": [
      "* `LOAD_GLOBAL` gets the object pointed by the global variable, and pushes a pointer to it on the stack.\n",
      "* Global variable names used by the function are stored in as list in `co_names` attribute.\n",
      "* `LOAD_GLOBAL` accepts the index into the list as operand.\n",
      "* The global variable name is then used to retrieve the object."
     ]
    },
    {
     "cell_type": "code",
     "collapsed": false,
     "input": [
      "print sum_ab.__code__.co_names"
     ],
     "language": "python",
     "metadata": {},
     "outputs": [
      {
       "output_type": "stream",
       "stream": "stdout",
       "text": [
        "('a', 'b')\n"
       ]
      }
     ],
     "prompt_number": 13
    },
    {
     "cell_type": "heading",
     "level": 2,
     "metadata": {},
     "source": [
      "Attribute Access"
     ]
    },
    {
     "cell_type": "code",
     "collapsed": false,
     "input": [
      "str = \"  Hello World  \"\n",
      "def trimmed():\n",
      "    return str.strip()"
     ],
     "language": "python",
     "metadata": {},
     "outputs": [],
     "prompt_number": 17
    },
    {
     "cell_type": "code",
     "collapsed": false,
     "input": [
      "dis.disassemble(trimmed.__code__)"
     ],
     "language": "python",
     "metadata": {},
     "outputs": [
      {
       "output_type": "stream",
       "stream": "stdout",
       "text": [
        "  3           0 LOAD_GLOBAL              0 (str)\n",
        "              3 LOAD_ATTR                1 (strip)\n",
        "              6 CALL_FUNCTION            0\n",
        "              9 RETURN_VALUE        \n"
       ]
      }
     ],
     "prompt_number": 19
    },
    {
     "cell_type": "markdown",
     "metadata": {},
     "source": [
      "* `LOAD_ATTR` pops the object pointer from the stack.\n",
      "* `LOAD_ATTR` accepts the index into the `co_names` as operand.\n",
      "* Finds the object pointed to by the named attribute and pushes it into the stack."
     ]
    },
    {
     "cell_type": "heading",
     "level": 2,
     "metadata": {},
     "source": [
      "Loops"
     ]
    },
    {
     "cell_type": "code",
     "collapsed": false,
     "input": [
      "def hello_loop():\n",
      "    while True:\n",
      "        print \"Hello\""
     ],
     "language": "python",
     "metadata": {},
     "outputs": [],
     "prompt_number": 24
    },
    {
     "cell_type": "code",
     "collapsed": false,
     "input": [
      "dis.disassemble(hello_loop.__code__)"
     ],
     "language": "python",
     "metadata": {},
     "outputs": [
      {
       "output_type": "stream",
       "stream": "stdout",
       "text": [
        "  2           0 SETUP_LOOP              15 (to 18)\n",
        "        >>    3 LOAD_GLOBAL              0 (True)\n",
        "              6 POP_JUMP_IF_FALSE       17\n",
        "\n",
        "  3           9 LOAD_CONST               1 ('Hello')\n",
        "             12 PRINT_ITEM          \n",
        "             13 PRINT_NEWLINE       \n",
        "             14 JUMP_ABSOLUTE            3\n",
        "        >>   17 POP_BLOCK           \n",
        "        >>   18 LOAD_CONST               0 (None)\n",
        "             21 RETURN_VALUE        \n"
       ]
      }
     ],
     "prompt_number": 28
    },
    {
     "cell_type": "markdown",
     "metadata": {},
     "source": [
      "* `POP_JUMP_IF_FALSE` pops the object pointer from the stack.\n",
      "* Determine the truth value of the object.\n",
      "* If false, jump to absolute address specified as argument\n",
      "* `JUMP ABSOLUTE`, jumps to the absolute address specified as argument"
     ]
    }
   ],
   "metadata": {}
  }
 ]
}