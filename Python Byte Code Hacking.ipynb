{
 "metadata": {
  "name": ""
 },
 "nbformat": 3,
 "nbformat_minor": 0,
 "worksheets": [
  {
   "cells": [
    {
     "cell_type": "heading",
     "level": 1,
     "metadata": {},
     "source": [
      "Python Byte Code Hacking"
     ]
    },
    {
     "cell_type": "heading",
     "level": 1,
     "metadata": {},
     "source": [
      "Python Interpreter"
     ]
    },
    {
     "cell_type": "markdown",
     "metadata": {},
     "source": [
      "* Python converts programs into byte code instructions before execution\n",
      "* Python objects are stored in a heap\n",
      "* Python interpreter creates, modifies and destroys objects in the heap based on instrunctions in the byte code.\n",
      "\n",
      "![Python VM and Heap](files/py-vm-heap.png)\n",
      "\n",
      "* The byte code instructions are themselves part of code objects\n",
      "* They are also stored in the heap\n",
      "\n",
      "![Code Objects](files/code-objects.png)"
     ]
    },
    {
     "cell_type": "heading",
     "level": 2,
     "metadata": {},
     "source": [
      "Stack Machine and Register Machine"
     ]
    },
    {
     "cell_type": "markdown",
     "metadata": {},
     "source": [
      "* Python interpreter is modelled after microprocessors\n",
      "* Just as a microprocessor reads and executes instructions, the Python interpreter also reads and execute byte code instructions\n",
      "* Instructions act on operands and produce a result\n",
      "* Interpreters can be classified into types on how the operands / results are stored\n",
      "  * Register Machine\n",
      "  * Stack Machine"
     ]
    },
    {
     "cell_type": "markdown",
     "metadata": {},
     "source": [
      "* The Python interpreter uses a internal stack to execute the instructions.\n",
      "* Internal stack is a temporary area that contains pointers to Python objects in the heap.\n",
      "* Instructions push and pop data on to the stack.\n",
      "* This is similar to how CPUs use registers to execute instructions."
     ]
    },
    {
     "cell_type": "heading",
     "level": 2,
     "metadata": {},
     "source": [
      "Hello Byte Code"
     ]
    },
    {
     "cell_type": "markdown",
     "metadata": {},
     "source": [
      "Here is a simple hello world function."
     ]
    },
    {
     "cell_type": "code",
     "collapsed": false,
     "input": [
      "def hello():\n",
      "    print \"Hello World\""
     ],
     "language": "python",
     "metadata": {},
     "outputs": [],
     "prompt_number": 40
    },
    {
     "cell_type": "markdown",
     "metadata": {},
     "source": [
      "The function object has a code object."
     ]
    },
    {
     "cell_type": "code",
     "collapsed": false,
     "input": [
      "print hello.__code__"
     ],
     "language": "python",
     "metadata": {},
     "outputs": [
      {
       "output_type": "stream",
       "stream": "stdout",
       "text": [
        "<code object hello at 0xa936920, file \"<ipython-input-40-8ca998ec1415>\", line 1>\n"
       ]
      }
     ],
     "prompt_number": 41
    },
    {
     "cell_type": "markdown",
     "metadata": {},
     "source": [
      "* The code object has the byte code and data required for the code to execute.\n",
      "* The byte codes can be accessed through `co_code` attribute."
     ]
    },
    {
     "cell_type": "code",
     "collapsed": false,
     "input": [
      "byte_codes = hello.__code__.co_code\n",
      "for byte in byte_codes:\n",
      "    print hex(ord(byte)),\n",
      "print"
     ],
     "language": "python",
     "metadata": {},
     "outputs": [
      {
       "output_type": "stream",
       "stream": "stdout",
       "text": [
        "0x64 0x1 0x0 0x47 0x48 0x64 0x0 0x0 0x53\n"
       ]
      }
     ],
     "prompt_number": 42
    },
    {
     "cell_type": "markdown",
     "metadata": {},
     "source": [
      "* One data required for the code to execute is a list of constants.\n",
      "* The byte code refer to these constants using an index into this list.\n",
      "* The list of constants can be accessed through the `co_consts` attribute."
     ]
    },
    {
     "cell_type": "code",
     "collapsed": false,
     "input": [
      "print hello.__code__.co_consts"
     ],
     "language": "python",
     "metadata": {},
     "outputs": [
      {
       "output_type": "stream",
       "stream": "stdout",
       "text": [
        "(None, 'Hello World')\n"
       ]
      }
     ],
     "prompt_number": 43
    },
    {
     "cell_type": "markdown",
     "metadata": {},
     "source": [
      "The byte code can be disassembled and be viewed in a more human readable form using the `dis` module."
     ]
    },
    {
     "cell_type": "code",
     "collapsed": false,
     "input": [
      "import dis\n",
      "dis.disassemble(hello.__code__)"
     ],
     "language": "python",
     "metadata": {},
     "outputs": [
      {
       "output_type": "stream",
       "stream": "stdout",
       "text": [
        "  2           0 LOAD_CONST               1 ('Hello World')\n",
        "              3 PRINT_ITEM          \n",
        "              4 PRINT_NEWLINE       \n",
        "              5 LOAD_CONST               0 (None)\n",
        "              8 RETURN_VALUE        \n"
       ]
      }
     ],
     "prompt_number": 44
    },
    {
     "cell_type": "markdown",
     "metadata": {},
     "source": [
      "  * `LOAD_CONST` pushes a constant on to the top of the stack. The index of the constant into `co_consts` is specified as operand.\n",
      "  * `PRINT_ITEM` prints TOS to `sys.stdout`.\n",
      "  * `RETURN_VALUE` returns the TOS to the caller."
     ]
    },
    {
     "cell_type": "heading",
     "level": 2,
     "metadata": {},
     "source": [
      "More Byte Codes"
     ]
    },
    {
     "cell_type": "markdown",
     "metadata": {},
     "source": [
      "Let's look at a more involved function and its byte code."
     ]
    },
    {
     "cell_type": "code",
     "collapsed": false,
     "input": [
      "def average(a, b, c):\n",
      "    sum = a + b + c\n",
      "    return sum / 3"
     ],
     "language": "python",
     "metadata": {},
     "outputs": [],
     "prompt_number": 45
    },
    {
     "cell_type": "markdown",
     "metadata": {},
     "source": [
      "The byte code disassembly:"
     ]
    },
    {
     "cell_type": "code",
     "collapsed": false,
     "input": [
      "dis.disassemble(average.__code__)"
     ],
     "language": "python",
     "metadata": {},
     "outputs": [
      {
       "output_type": "stream",
       "stream": "stdout",
       "text": [
        "  2           0 LOAD_FAST                0 (a)\n",
        "              3 LOAD_FAST                1 (b)\n",
        "              6 BINARY_ADD          \n",
        "              7 LOAD_FAST                2 (c)\n",
        "             10 BINARY_ADD          \n",
        "             11 STORE_FAST               3 (sum)\n",
        "\n",
        "  3          14 LOAD_FAST                3 (sum)\n",
        "             17 LOAD_CONST               1 (3)\n",
        "             20 BINARY_DIVIDE       \n",
        "             21 RETURN_VALUE        \n"
       ]
      }
     ],
     "prompt_number": 46
    },
    {
     "cell_type": "markdown",
     "metadata": {},
     "source": [
      "* `LOAD_FAST` pushes the object pointed by the local variable on to the stack\n",
      "* Local variables state is stored in a list.\n",
      "* `LOAD_FAST` accepts the index into the list as operand.\n",
      "* The list of local variables can be obtained using `co_varnames` attribute."
     ]
    },
    {
     "cell_type": "code",
     "collapsed": false,
     "input": [
      "print average.__code__.co_varnames"
     ],
     "language": "python",
     "metadata": {},
     "outputs": [
      {
       "output_type": "stream",
       "stream": "stdout",
       "text": [
        "('a', 'b', 'c', 'sum')\n"
       ]
      }
     ],
     "prompt_number": 49
    },
    {
     "cell_type": "code",
     "collapsed": false,
     "input": [],
     "language": "python",
     "metadata": {},
     "outputs": []
    }
   ],
   "metadata": {}
  }
 ]
}